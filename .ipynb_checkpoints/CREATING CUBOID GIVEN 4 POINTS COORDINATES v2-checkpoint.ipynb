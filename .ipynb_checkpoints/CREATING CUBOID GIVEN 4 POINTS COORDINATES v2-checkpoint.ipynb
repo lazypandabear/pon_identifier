{
 "cells": [
  {
   "cell_type": "code",
   "execution_count": 1,
   "id": "f3530995",
   "metadata": {},
   "outputs": [],
   "source": [
    "import numpy as np\n",
    "import cv2\n",
    "from typing import Callable, Tuple\n",
    "import math"
   ]
  },
  {
   "cell_type": "code",
   "execution_count": 2,
   "id": "513a452e",
   "metadata": {},
   "outputs": [],
   "source": [
    "def draw_label(img, text, position, font=cv2.FONT_HERSHEY_SIMPLEX, scale=0.5, color=(255, 255, 255), thickness=1):\n",
    "    cv2.putText(img, text, (int(position[0]), int(position[1])), font, scale, color, thickness, cv2.LINE_AA)"
   ]
  },
  {
   "cell_type": "code",
   "execution_count": 3,
   "id": "819b7dca",
   "metadata": {},
   "outputs": [],
   "source": [
    "def draw_line(img, pt1, pt2, color=(255, 255, 255), thickness=2):\n",
    "    cv2.line(img, (int(round(pt1[0])), int(round(pt1[1]))), \n",
    "             (int(round(pt2[0])), int(round(pt2[1]))), color, thickness)"
   ]
  },
  {
   "cell_type": "code",
   "execution_count": 4,
   "id": "fe206ea4",
   "metadata": {},
   "outputs": [],
   "source": [
    "def draw_cuboid(img, A, B, C, E):\n",
    "    # Calculate vectors AB, AC based on the front face A, B, C\n",
    "    AB = np.array(B, dtype=float) - np.array(A, dtype=float)\n",
    "    AC = np.array(C, dtype=float) - np.array(A, dtype=float)\n",
    "    AE = np.array(E, dtype=float) - np.array(A, dtype=float)\n",
    "    \n",
    "    # Using the depth vector AE, calculate the rest of the back face points\n",
    "    F = B + AE\n",
    "    G = C + AE\n",
    "    D = A + AB + AC  # D is the fourth vertex of the front face, opposite of A\n",
    "\n",
    "    # Draw the front face (ABCD)\n",
    "    draw_line(img, A, B, color=(255, 0, 0))\n",
    "    draw_line(img, B, D, color=(255, 0, 0))\n",
    "    draw_line(img, D, C, color=(255, 0, 0))\n",
    "    draw_line(img, C, A, color=(255, 0, 0))\n",
    "\n",
    "    # Draw the back face (EFGH), where H is directly opposite of D\n",
    "    H = D + AE\n",
    "    draw_line(img, E, F, color=(100, 100, 100), thickness=1)\n",
    "    draw_line(img, F, H, color=(100, 100, 100), thickness=1)\n",
    "    draw_line(img, H, G, color=(100, 100, 100), thickness=1)\n",
    "    draw_line(img, G, E, color=(100, 100, 100), thickness=1)\n",
    "\n",
    "    # Connect the front and back faces\n",
    "    draw_line(img, A, E, color=(100, 100, 100), thickness=1)\n",
    "    draw_line(img, B, F, color=(100, 100, 100), thickness=1)\n",
    "    draw_line(img, C, G, color=(100, 100, 100), thickness=1)\n",
    "    draw_line(img, D, H, color=(100, 100, 100), thickness=1)\n",
    "    \n",
    "    # Label the points\n",
    "    offset = np.array([-15, -5])  # Adjust as needed\n",
    "    draw_label(img, 'A', tuple(A.astype(int) + offset))\n",
    "    draw_label(img, 'B', tuple(B.astype(int) + offset))\n",
    "    draw_label(img, 'C', tuple(C.astype(int) + offset))\n",
    "    draw_label(img, 'D', tuple(D.astype(int) + offset))\n",
    "    draw_label(img, 'E', tuple(E.astype(int) + offset))\n",
    "    draw_label(img, 'F', tuple(F.astype(int) + offset))\n",
    "    draw_label(img, 'G', tuple(G.astype(int) + offset))\n",
    "    draw_label(img, 'H', tuple(H.astype(int) + offset))\n",
    "    \n",
    "    cuboid = np.array([A,B,C,D,E,F,G,H])\n",
    "\n",
    "    return (img,cuboid)"
   ]
  },
  {
   "cell_type": "code",
   "execution_count": 5,
   "id": "0f6bc536",
   "metadata": {},
   "outputs": [],
   "source": [
    "def create_line_function(p1: Tuple[float, float], p2: Tuple[float, float]) -> Callable[[float, Tuple[float, float]], Tuple[float, float]]:\n",
    "    x1, y1 = p1\n",
    "    x2, y2 = p2\n",
    "    \n",
    "    # Calculate the slope of the line\n",
    "    dx = x2 - x1\n",
    "    dy = y2 - y1\n",
    "    if dx != 0:\n",
    "        m = dy / dx\n",
    "        b = y1 - m * x1\n",
    "    else:\n",
    "        # The line is vertical\n",
    "        m = None\n",
    "        b = None\n",
    "\n",
    "    def line_function(length: float, point: Tuple[float, float]) -> Tuple[float, float]:\n",
    "        x, y = point\n",
    "        \n",
    "        if m is not None:\n",
    "            # Calculate the direction of the line\n",
    "            direction = math.atan(m)\n",
    "            # Calculate delta x and delta y based on the length and direction\n",
    "            delta_x = length / math.sqrt(1 + m**2)\n",
    "            delta_y = delta_x * m\n",
    "            \n",
    "            # Determine the correct direction (+ or -) based on the original points\n",
    "            if x2 < x1:\n",
    "                delta_x = -delta_x\n",
    "                delta_y = -delta_y\n",
    "\n",
    "            # Calculate the new point Q(x', y')\n",
    "            x_new = x + delta_x\n",
    "            y_new = y + delta_y\n",
    "        else:\n",
    "            # For a vertical line, x does not change\n",
    "            x_new = x\n",
    "            if y2 > y1:\n",
    "                y_new = y + length\n",
    "            else:\n",
    "                y_new = y - length\n",
    "\n",
    "        return (x_new, y_new)\n",
    "    \n",
    "    return line_function\n"
   ]
  },
  {
   "cell_type": "code",
   "execution_count": 6,
   "id": "ac7c9dbe",
   "metadata": {},
   "outputs": [],
   "source": [
    "def distance_between_points(p1, p2):\n",
    "    x1, y1 = p1\n",
    "    x2, y2 = p2\n",
    "    return math.sqrt((x2 - x1)**2 + (y2 - y1)**2)"
   ]
  },
  {
   "cell_type": "code",
   "execution_count": 7,
   "id": "a40ebfab",
   "metadata": {},
   "outputs": [
    {
     "data": {
      "text/plain": [
       "(300.0, 100.0)"
      ]
     },
     "execution_count": 7,
     "metadata": {},
     "output_type": "execute_result"
    }
   ],
   "source": [
    "\n",
    "# Example usage\n",
    "p1 = (100, 100)\n",
    "p2 = (200, 100)\n",
    "line_func = create_line_function(p1, p2)\n",
    "\n",
    "# Get a new point at distance 5 from (3, 3) along the line\n",
    "new_point = line_func(100, (200, 100))\n",
    "new_point\n"
   ]
  },
  {
   "cell_type": "code",
   "execution_count": null,
   "id": "2803671c",
   "metadata": {},
   "outputs": [],
   "source": []
  },
  {
   "cell_type": "code",
   "execution_count": 8,
   "id": "b96bc5da",
   "metadata": {},
   "outputs": [],
   "source": [
    "def create_stacked_cuboid(img,cuboid,spacing,end_point=(0.,0.)):\n",
    "    A=cuboid[0]\n",
    "    B=cuboid[1]\n",
    "    C=cuboid[2]\n",
    "    D=cuboid[3]\n",
    "    E=cuboid[4]\n",
    "    F=cuboid[5]\n",
    "    G=cuboid[6]\n",
    "    H=cuboid[7]\n",
    "    \n",
    "    AB_func = create_line_function(A, B)\n",
    "    AC_func = create_line_function(A, C)\n",
    "    AE_func = create_line_function(A, E)\n",
    "    BD_func = create_line_function(A, B)\n",
    "    BF_func = create_line_function(A, B)\n",
    "    CD_func = create_line_function(C, D)\n",
    "    CG_func = create_line_function(C, G)\n",
    "    DH_func = create_line_function(D, H)\n",
    "    EF_func = create_line_function(E, F)\n",
    "    EG_func = create_line_function(E, G)\n",
    "    FH_func = create_line_function(F, H)\n",
    "    GH_func = create_line_function(G, H)\n",
    "    \n",
    "    AB_length = distance_between_points(A, B)\n",
    "    AC_length = distance_between_points(A, C)\n",
    "    AE_length = distance_between_points(A, E)\n",
    "    total_length = distance_between_points(A, end_point)\n",
    "    divisor=AB_length+spacing\n",
    "    total_num_cuboid = int(total_length//divisor)\n",
    "    \n",
    "    for n in range(total_num_cuboid):\n",
    "        new_A = AB_func((spacing+AB_length)*(n+1),A)\n",
    "        new_B = AB_func((spacing+AB_length)*(n+1),B)\n",
    "        new_C = CD_func((spacing+AB_length)*(n+1),C)\n",
    "        new_D= CD_func((spacing+AB_length)*(n+1),D)\n",
    "        new_E = EF_func((spacing+AB_length)*(n+1),E)\n",
    "        new_F = EF_func((spacing+AB_length)*(n+1),F)\n",
    "        new_G= GH_func((spacing+AB_length)*(n+1),G)\n",
    "        new_H= GH_func((spacing+AB_length)*(n+1),H)\n",
    "\n",
    "        # Draw the front face (ABCD)\n",
    "        draw_line(img, new_A, new_B, color=(255, 0, 0))\n",
    "        draw_line(img, new_B, new_D, color=(255, 0, 0))\n",
    "        draw_line(img, new_D, new_C, color=(255, 0, 0))\n",
    "        draw_line(img, new_C, new_A, color=(255, 0, 0))\n",
    "\n",
    "        # Draw the back face (EFGH), where H is directly opposite of D\n",
    "        draw_line(img, new_E, new_F, color=(100, 100, 100), thickness=1)\n",
    "        draw_line(img, new_F, new_H, color=(100, 100, 100), thickness=1)\n",
    "        draw_line(img, new_H, new_G, color=(100, 100, 100), thickness=1)\n",
    "        draw_line(img, new_G, new_E, color=(100, 100, 100), thickness=1)\n",
    "\n",
    "        # Connect the front and back faces\n",
    "        draw_line(img, new_A, new_E, color=(100, 100, 100), thickness=1)\n",
    "        draw_line(img, new_B, new_F, color=(100, 100, 100), thickness=1)\n",
    "        draw_line(img, new_C, new_G, color=(100, 100, 100), thickness=1)\n",
    "        draw_line(img, new_D, new_H, color=(100, 100, 100), thickness=1)\n",
    "    \n",
    "    return img\n",
    "\n",
    "    \n",
    "    "
   ]
  },
  {
   "cell_type": "code",
   "execution_count": null,
   "id": "62ce022a",
   "metadata": {},
   "outputs": [],
   "source": [
    "# Define the coordinates for points A, B, C, D\n",
    "A = np.array([100, 100], dtype=float)\n",
    "B = np.array([200, 100], dtype=float)\n",
    "C = np.array([100, 200], dtype=float)\n",
    "E = np.array([50,50], dtype=float)\n",
    "\n",
    "# Create a blank image\n",
    "image = np.zeros((1000, 1000, 3), dtype=np.uint8)\n",
    "\n",
    "# Draw the cuboid\n",
    "image,cuboid_0 = draw_cuboid(image, A, B, C, E)\n",
    "spacing=10\n",
    "create_stacked_cuboid(image,cuboid_0,spacing,end_point=(800.,100.))\n",
    "\n",
    "# Display the image\n",
    "cv2.imshow('Cuboid', image)\n",
    "cv2.waitKey(0)\n",
    "cv2.destroyAllWindows()"
   ]
  },
  {
   "cell_type": "code",
   "execution_count": null,
   "id": "bd419c64",
   "metadata": {},
   "outputs": [],
   "source": [
    "cuboid_0"
   ]
  },
  {
   "cell_type": "code",
   "execution_count": null,
   "id": "f3f4fccd",
   "metadata": {},
   "outputs": [],
   "source": [
    "AB = np.array(B, dtype=float) - np.array(A, dtype=float)*5"
   ]
  },
  {
   "cell_type": "code",
   "execution_count": null,
   "id": "53fb9071",
   "metadata": {},
   "outputs": [],
   "source": [
    "AB"
   ]
  },
  {
   "cell_type": "code",
   "execution_count": null,
   "id": "1475f64a",
   "metadata": {},
   "outputs": [],
   "source": [
    "distance_between_points(A, E)"
   ]
  },
  {
   "cell_type": "code",
   "execution_count": null,
   "id": "58dda935",
   "metadata": {},
   "outputs": [],
   "source": [
    "AE = np.array(E, dtype=float) - np.array(A, dtype=float)\n",
    "AE"
   ]
  }
 ],
 "metadata": {
  "kernelspec": {
   "display_name": "Python 3 (ipykernel)",
   "language": "python",
   "name": "python3"
  },
  "language_info": {
   "codemirror_mode": {
    "name": "ipython",
    "version": 3
   },
   "file_extension": ".py",
   "mimetype": "text/x-python",
   "name": "python",
   "nbconvert_exporter": "python",
   "pygments_lexer": "ipython3",
   "version": "3.11.4"
  }
 },
 "nbformat": 4,
 "nbformat_minor": 5
}
